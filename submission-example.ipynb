{
 "cells": [
  {
   "cell_type": "code",
   "execution_count": 1,
   "id": "initial_id",
   "metadata": {
    "collapsed": true,
    "ExecuteTime": {
     "end_time": "2023-11-07T00:28:11.204374495Z",
     "start_time": "2023-11-07T00:28:10.351938431Z"
    }
   },
   "outputs": [],
   "source": [
    "import pandas as pd # data processing, CSV file I/O (e.g. pd.read_csv)\n",
    "from sklearn.model_selection import train_test_split # splitting training and test data\n",
    "from sklearn.ensemble import RandomForestClassifier # random forest\n",
    "from sklearn.metrics import accuracy_score # accuracy score for binary response"
   ]
  },
  {
   "cell_type": "code",
   "execution_count": 2,
   "outputs": [],
   "source": [
    "# Read CSV's\n",
    "train_df = pd.read_csv('dataset/train.csv', header=None)\n",
    "labels = pd.read_csv('dataset/trainLabels.csv', header = None)\n",
    "labels.columns = ['label']\n",
    "test_df = pd.read_csv('dataset/test.csv', header=None)\n",
    "# Merge training data and labels\n",
    "df = train_df.join(labels, how = 'right')\n",
    "df['label'] = df['label'].astype('str')"
   ],
   "metadata": {
    "collapsed": false,
    "ExecuteTime": {
     "end_time": "2023-11-07T00:28:11.357415995Z",
     "start_time": "2023-11-07T00:28:11.204804433Z"
    }
   },
   "id": "8d144a84e08d2d49"
  },
  {
   "cell_type": "code",
   "execution_count": 3,
   "outputs": [
    {
     "data": {
      "text/plain": "                0            1            2            3            4   \\\ncount  1000.000000  1000.000000  1000.000000  1000.000000  1000.000000   \nmean      0.025596    -0.024526    -0.024088    -0.002271     1.092329   \nstd       1.008282     1.016298     0.979109     0.970575     4.538834   \nmin      -3.365711    -3.492086    -2.695602    -3.460471   -16.421901   \n25%      -0.669010    -0.693937    -0.698830    -0.617557    -1.801997   \n50%       0.027895    -0.033194     0.008145     0.002327     0.862818   \n75%       0.762520     0.682753     0.661434     0.640743     3.843172   \nmax       3.326246     3.583870     2.546507     3.088738    17.565345   \n\n                5            6            7            8            9   ...  \\\ncount  1000.000000  1000.000000  1000.000000  1000.000000  1000.000000  ...   \nmean     -0.006250     0.497342    -0.037883     0.026391    -0.003597  ...   \nstd       0.989128     2.118819     2.232256     1.001064     1.013520  ...   \nmin      -3.041250    -7.224761    -6.509084    -3.145588    -2.749812  ...   \n25%      -0.732265    -0.838619    -1.604037    -0.677562    -0.682220  ...   \n50%       0.027041     0.582321     0.018809     0.022092    -0.036110  ...   \n75%       0.671456     1.913664     1.438304     0.741310     0.665364  ...   \nmax       3.102997     7.592666     7.130097     3.145258     3.919426  ...   \n\n                30           31           32           33           34  \\\ncount  1000.000000  1000.000000  1000.000000  1000.000000  1000.000000   \nmean      0.030651     0.022951    -0.542491    -0.011608    -0.483507   \nstd       1.011645     1.001375     2.239939     1.022456     2.121281   \nmin      -3.379194    -2.971125    -7.840890    -2.999564    -7.124105   \n25%      -0.659457    -0.696032    -2.121943    -0.664550    -1.879247   \n50%       0.049416     0.049778    -0.568262    -0.028097    -0.493575   \n75%       0.747031     0.699917     0.939348     0.651374     1.005795   \nmax       2.844792     3.688047     7.160379     3.353631     6.005818   \n\n                35           36           37           38           39  \ncount  1000.000000  1000.000000  1000.000000  1000.000000  1000.000000  \nmean      0.033371     0.567185     0.006849    -0.892659     0.609451  \nstd       1.007044     2.227876     0.997635     2.022022     2.045439  \nmin      -2.952358    -5.452254    -3.473913    -8.051722    -7.799086  \n25%      -0.642861    -1.059786    -0.691162    -2.220126    -0.565041  \n50%       0.037732     0.455474     0.038284    -0.855470     0.779944  \n75%       0.691800     2.122157     0.693535     0.388698     1.992193  \nmax       3.420561     6.603499     3.492548     5.774120     6.803984  \n\n[8 rows x 40 columns]",
      "text/html": "<div>\n<style scoped>\n    .dataframe tbody tr th:only-of-type {\n        vertical-align: middle;\n    }\n\n    .dataframe tbody tr th {\n        vertical-align: top;\n    }\n\n    .dataframe thead th {\n        text-align: right;\n    }\n</style>\n<table border=\"1\" class=\"dataframe\">\n  <thead>\n    <tr style=\"text-align: right;\">\n      <th></th>\n      <th>0</th>\n      <th>1</th>\n      <th>2</th>\n      <th>3</th>\n      <th>4</th>\n      <th>5</th>\n      <th>6</th>\n      <th>7</th>\n      <th>8</th>\n      <th>9</th>\n      <th>...</th>\n      <th>30</th>\n      <th>31</th>\n      <th>32</th>\n      <th>33</th>\n      <th>34</th>\n      <th>35</th>\n      <th>36</th>\n      <th>37</th>\n      <th>38</th>\n      <th>39</th>\n    </tr>\n  </thead>\n  <tbody>\n    <tr>\n      <th>count</th>\n      <td>1000.000000</td>\n      <td>1000.000000</td>\n      <td>1000.000000</td>\n      <td>1000.000000</td>\n      <td>1000.000000</td>\n      <td>1000.000000</td>\n      <td>1000.000000</td>\n      <td>1000.000000</td>\n      <td>1000.000000</td>\n      <td>1000.000000</td>\n      <td>...</td>\n      <td>1000.000000</td>\n      <td>1000.000000</td>\n      <td>1000.000000</td>\n      <td>1000.000000</td>\n      <td>1000.000000</td>\n      <td>1000.000000</td>\n      <td>1000.000000</td>\n      <td>1000.000000</td>\n      <td>1000.000000</td>\n      <td>1000.000000</td>\n    </tr>\n    <tr>\n      <th>mean</th>\n      <td>0.025596</td>\n      <td>-0.024526</td>\n      <td>-0.024088</td>\n      <td>-0.002271</td>\n      <td>1.092329</td>\n      <td>-0.006250</td>\n      <td>0.497342</td>\n      <td>-0.037883</td>\n      <td>0.026391</td>\n      <td>-0.003597</td>\n      <td>...</td>\n      <td>0.030651</td>\n      <td>0.022951</td>\n      <td>-0.542491</td>\n      <td>-0.011608</td>\n      <td>-0.483507</td>\n      <td>0.033371</td>\n      <td>0.567185</td>\n      <td>0.006849</td>\n      <td>-0.892659</td>\n      <td>0.609451</td>\n    </tr>\n    <tr>\n      <th>std</th>\n      <td>1.008282</td>\n      <td>1.016298</td>\n      <td>0.979109</td>\n      <td>0.970575</td>\n      <td>4.538834</td>\n      <td>0.989128</td>\n      <td>2.118819</td>\n      <td>2.232256</td>\n      <td>1.001064</td>\n      <td>1.013520</td>\n      <td>...</td>\n      <td>1.011645</td>\n      <td>1.001375</td>\n      <td>2.239939</td>\n      <td>1.022456</td>\n      <td>2.121281</td>\n      <td>1.007044</td>\n      <td>2.227876</td>\n      <td>0.997635</td>\n      <td>2.022022</td>\n      <td>2.045439</td>\n    </tr>\n    <tr>\n      <th>min</th>\n      <td>-3.365711</td>\n      <td>-3.492086</td>\n      <td>-2.695602</td>\n      <td>-3.460471</td>\n      <td>-16.421901</td>\n      <td>-3.041250</td>\n      <td>-7.224761</td>\n      <td>-6.509084</td>\n      <td>-3.145588</td>\n      <td>-2.749812</td>\n      <td>...</td>\n      <td>-3.379194</td>\n      <td>-2.971125</td>\n      <td>-7.840890</td>\n      <td>-2.999564</td>\n      <td>-7.124105</td>\n      <td>-2.952358</td>\n      <td>-5.452254</td>\n      <td>-3.473913</td>\n      <td>-8.051722</td>\n      <td>-7.799086</td>\n    </tr>\n    <tr>\n      <th>25%</th>\n      <td>-0.669010</td>\n      <td>-0.693937</td>\n      <td>-0.698830</td>\n      <td>-0.617557</td>\n      <td>-1.801997</td>\n      <td>-0.732265</td>\n      <td>-0.838619</td>\n      <td>-1.604037</td>\n      <td>-0.677562</td>\n      <td>-0.682220</td>\n      <td>...</td>\n      <td>-0.659457</td>\n      <td>-0.696032</td>\n      <td>-2.121943</td>\n      <td>-0.664550</td>\n      <td>-1.879247</td>\n      <td>-0.642861</td>\n      <td>-1.059786</td>\n      <td>-0.691162</td>\n      <td>-2.220126</td>\n      <td>-0.565041</td>\n    </tr>\n    <tr>\n      <th>50%</th>\n      <td>0.027895</td>\n      <td>-0.033194</td>\n      <td>0.008145</td>\n      <td>0.002327</td>\n      <td>0.862818</td>\n      <td>0.027041</td>\n      <td>0.582321</td>\n      <td>0.018809</td>\n      <td>0.022092</td>\n      <td>-0.036110</td>\n      <td>...</td>\n      <td>0.049416</td>\n      <td>0.049778</td>\n      <td>-0.568262</td>\n      <td>-0.028097</td>\n      <td>-0.493575</td>\n      <td>0.037732</td>\n      <td>0.455474</td>\n      <td>0.038284</td>\n      <td>-0.855470</td>\n      <td>0.779944</td>\n    </tr>\n    <tr>\n      <th>75%</th>\n      <td>0.762520</td>\n      <td>0.682753</td>\n      <td>0.661434</td>\n      <td>0.640743</td>\n      <td>3.843172</td>\n      <td>0.671456</td>\n      <td>1.913664</td>\n      <td>1.438304</td>\n      <td>0.741310</td>\n      <td>0.665364</td>\n      <td>...</td>\n      <td>0.747031</td>\n      <td>0.699917</td>\n      <td>0.939348</td>\n      <td>0.651374</td>\n      <td>1.005795</td>\n      <td>0.691800</td>\n      <td>2.122157</td>\n      <td>0.693535</td>\n      <td>0.388698</td>\n      <td>1.992193</td>\n    </tr>\n    <tr>\n      <th>max</th>\n      <td>3.326246</td>\n      <td>3.583870</td>\n      <td>2.546507</td>\n      <td>3.088738</td>\n      <td>17.565345</td>\n      <td>3.102997</td>\n      <td>7.592666</td>\n      <td>7.130097</td>\n      <td>3.145258</td>\n      <td>3.919426</td>\n      <td>...</td>\n      <td>2.844792</td>\n      <td>3.688047</td>\n      <td>7.160379</td>\n      <td>3.353631</td>\n      <td>6.005818</td>\n      <td>3.420561</td>\n      <td>6.603499</td>\n      <td>3.492548</td>\n      <td>5.774120</td>\n      <td>6.803984</td>\n    </tr>\n  </tbody>\n</table>\n<p>8 rows × 40 columns</p>\n</div>"
     },
     "execution_count": 3,
     "metadata": {},
     "output_type": "execute_result"
    }
   ],
   "source": [
    "# Data statistics\n",
    "df.describe()"
   ],
   "metadata": {
    "collapsed": false,
    "ExecuteTime": {
     "end_time": "2023-11-07T00:28:11.503509958Z",
     "start_time": "2023-11-07T00:28:11.365628161Z"
    }
   },
   "id": "bb625c4dbecc998f"
  },
  {
   "cell_type": "code",
   "execution_count": 4,
   "outputs": [],
   "source": [
    "# Split data into test and training sets\n",
    "x = df.iloc[:, :-1]\n",
    "y = df.iloc[:,-1]\n",
    "x_train, x_test, y_train, y_test = train_test_split(x,y, test_size=0.2, random_state=55)"
   ],
   "metadata": {
    "collapsed": false,
    "ExecuteTime": {
     "end_time": "2023-11-07T00:28:11.505377920Z",
     "start_time": "2023-11-07T00:28:11.488745665Z"
    }
   },
   "id": "dc832b271fd99f52"
  },
  {
   "cell_type": "code",
   "execution_count": 5,
   "outputs": [
    {
     "name": "stdout",
     "output_type": "stream",
     "text": [
      "The accuracy of the Random Forest model was 0.885\n"
     ]
    }
   ],
   "source": [
    "# Create Random Forest model\n",
    "rf_model = RandomForestClassifier()\n",
    "rf_model.fit(x_train, y_train)\n",
    "\n",
    "# Test base model\n",
    "pred_values = rf_model.predict(x_test)\n",
    "rf_acc = accuracy_score(y_test, pred_values)\n",
    "print(f'The accuracy of the Random Forest model was {rf_acc}')"
   ],
   "metadata": {
    "collapsed": false,
    "ExecuteTime": {
     "end_time": "2023-11-07T00:28:12.525385307Z",
     "start_time": "2023-11-07T00:28:11.496891532Z"
    }
   },
   "id": "fe15361b1f82ec02"
  },
  {
   "cell_type": "code",
   "execution_count": 6,
   "outputs": [],
   "source": [
    "# The KNN model had the better accuracy score, so that is the model that will be used to predict the test set\n",
    "test_preds = rf_model.predict(test_df)\n",
    "\n",
    "test_solution = pd.DataFrame({'ID' : range(1,(len(test_df)+1)),\n",
    "                              'Solution' : test_preds})\n",
    "test_solution.to_csv('submission.csv', index=False)"
   ],
   "metadata": {
    "collapsed": false,
    "ExecuteTime": {
     "end_time": "2023-11-07T00:28:12.702240518Z",
     "start_time": "2023-11-07T00:28:12.509938806Z"
    }
   },
   "id": "166673a3147db6fe"
  }
 ],
 "metadata": {
  "kernelspec": {
   "display_name": "Python 3",
   "language": "python",
   "name": "python3"
  },
  "language_info": {
   "codemirror_mode": {
    "name": "ipython",
    "version": 2
   },
   "file_extension": ".py",
   "mimetype": "text/x-python",
   "name": "python",
   "nbconvert_exporter": "python",
   "pygments_lexer": "ipython2",
   "version": "2.7.6"
  }
 },
 "nbformat": 4,
 "nbformat_minor": 5
}
